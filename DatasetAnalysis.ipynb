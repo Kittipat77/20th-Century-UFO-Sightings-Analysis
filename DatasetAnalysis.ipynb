{
  "nbformat": 4,
  "nbformat_minor": 0,
  "metadata": {
    "colab": {
      "provenance": [],
      "include_colab_link": true
    },
    "kernelspec": {
      "name": "python3",
      "display_name": "Python 3"
    },
    "language_info": {
      "name": "python"
    }
  },
  "cells": [
    {
      "cell_type": "markdown",
      "metadata": {
        "id": "view-in-github",
        "colab_type": "text"
      },
      "source": [
        "<a href=\"https://colab.research.google.com/github/Kittipat77/20th-Century-UFO-Sightings-Analysis/blob/main/DatasetAnalysis.ipynb\" target=\"_parent\"><img src=\"https://colab.research.google.com/assets/colab-badge.svg\" alt=\"Open In Colab\"/></a>"
      ]
    },
    {
      "cell_type": "markdown",
      "source": [
        "กิตติพัฒน์ สุวรรณ 6409610570\n",
        "\n",
        "สิรกานต์ ธนบุญสมบัติ 6409682926"
      ],
      "metadata": {
        "id": "oZN3SQdn_lrM"
      }
    },
    {
      "cell_type": "markdown",
      "metadata": {
        "id": "sDtDffi2yDBl"
      },
      "source": [
        "# โครงงานวิชา CS245 : Principle of Data Science\n",
        "## <u>โครงงานการวิเคราะห์ข้อมูล</u> : UFO Sightings Dataset\n",
        "### Context :  Reports of unidentified flying object reports in the last century\n",
        "This dataset contains over 80,000 reports of UFO sightings over the last century."
      ]
    },
    {
      "cell_type": "markdown",
      "source": [
        "##0. Import all required packages and load the data set"
      ],
      "metadata": {
        "id": "epkCBtg3_qcv"
      }
    },
    {
      "cell_type": "code",
      "source": [
        "import pandas\n",
        "import numpy as np\n",
        "import pandas as pd\n",
        "import matplotlib as mpt\n",
        "import matplotlib.pyplot as plt\n",
        "\n",
        "from google.colab import drive\n",
        "drive.mount('/content/drive')\n",
        "\n",
        "ufo = pd.read_csv('/content/drive/MyDrive/Colab Notebooks/TermProject/ufo_sightings.csv')"
      ],
      "metadata": {
        "id": "TnaYA3v6-MZZ",
        "colab": {
          "base_uri": "https://localhost:8080/"
        },
        "outputId": "ced4fed6-9244-41e6-b3bb-8d7195d5afae"
      },
      "execution_count": null,
      "outputs": [
        {
          "output_type": "stream",
          "name": "stdout",
          "text": [
            "Drive already mounted at /content/drive; to attempt to forcibly remount, call drive.mount(\"/content/drive\", force_remount=True).\n"
          ]
        },
        {
          "output_type": "stream",
          "name": "stderr",
          "text": [
            "/usr/local/lib/python3.8/dist-packages/IPython/core/interactiveshell.py:3326: DtypeWarning: Columns (5,9) have mixed types.Specify dtype option on import or set low_memory=False.\n",
            "  exec(code_obj, self.user_global_ns, self.user_ns)\n"
          ]
        }
      ]
    },
    {
      "cell_type": "markdown",
      "source": [
        "#1. แสดงค่าสถิติเบื้องต้นของชุดข้อมูล"
      ],
      "metadata": {
        "id": "6KqPJl_8-d5s"
      }
    },
    {
      "cell_type": "code",
      "source": [
        "ufo.info()"
      ],
      "metadata": {
        "id": "Nied-ILl-mTo",
        "colab": {
          "base_uri": "https://localhost:8080/"
        },
        "outputId": "e78aa6b3-6e3a-435e-eaaa-cb64031b5f0b"
      },
      "execution_count": null,
      "outputs": [
        {
          "output_type": "stream",
          "name": "stdout",
          "text": [
            "<class 'pandas.core.frame.DataFrame'>\n",
            "RangeIndex: 80332 entries, 0 to 80331\n",
            "Data columns (total 11 columns):\n",
            " #   Column                Non-Null Count  Dtype  \n",
            "---  ------                --------------  -----  \n",
            " 0   datetime              80332 non-null  object \n",
            " 1   city                  80332 non-null  object \n",
            " 2   state                 74535 non-null  object \n",
            " 3   country               70662 non-null  object \n",
            " 4   shape                 78400 non-null  object \n",
            " 5   duration (seconds)    80332 non-null  object \n",
            " 6   duration (hours/min)  80332 non-null  object \n",
            " 7   comments              80317 non-null  object \n",
            " 8   date posted           80332 non-null  object \n",
            " 9   latitude              80332 non-null  object \n",
            " 10  longitude             80332 non-null  float64\n",
            "dtypes: float64(1), object(10)\n",
            "memory usage: 6.7+ MB\n"
          ]
        }
      ]
    },
    {
      "cell_type": "code",
      "source": [
        "ufo.describe()"
      ],
      "metadata": {
        "id": "hxY2cxVdqc1l",
        "outputId": "a5be236f-d4f9-4ed1-d3ed-fdcfbf9766ae",
        "colab": {
          "base_uri": "https://localhost:8080/",
          "height": 300
        }
      },
      "execution_count": null,
      "outputs": [
        {
          "output_type": "execute_result",
          "data": {
            "text/plain": [
              "         longitude \n",
              "count  80332.000000\n",
              "mean     -86.772885\n",
              "std       39.697205\n",
              "min     -176.658056\n",
              "25%     -112.073333\n",
              "50%      -87.903611\n",
              "75%      -78.755000\n",
              "max      178.441900"
            ],
            "text/html": [
              "\n",
              "  <div id=\"df-d7ae53ed-baaa-4c08-b72c-010a0467b31c\">\n",
              "    <div class=\"colab-df-container\">\n",
              "      <div>\n",
              "<style scoped>\n",
              "    .dataframe tbody tr th:only-of-type {\n",
              "        vertical-align: middle;\n",
              "    }\n",
              "\n",
              "    .dataframe tbody tr th {\n",
              "        vertical-align: top;\n",
              "    }\n",
              "\n",
              "    .dataframe thead th {\n",
              "        text-align: right;\n",
              "    }\n",
              "</style>\n",
              "<table border=\"1\" class=\"dataframe\">\n",
              "  <thead>\n",
              "    <tr style=\"text-align: right;\">\n",
              "      <th></th>\n",
              "      <th>longitude</th>\n",
              "    </tr>\n",
              "  </thead>\n",
              "  <tbody>\n",
              "    <tr>\n",
              "      <th>count</th>\n",
              "      <td>80332.000000</td>\n",
              "    </tr>\n",
              "    <tr>\n",
              "      <th>mean</th>\n",
              "      <td>-86.772885</td>\n",
              "    </tr>\n",
              "    <tr>\n",
              "      <th>std</th>\n",
              "      <td>39.697205</td>\n",
              "    </tr>\n",
              "    <tr>\n",
              "      <th>min</th>\n",
              "      <td>-176.658056</td>\n",
              "    </tr>\n",
              "    <tr>\n",
              "      <th>25%</th>\n",
              "      <td>-112.073333</td>\n",
              "    </tr>\n",
              "    <tr>\n",
              "      <th>50%</th>\n",
              "      <td>-87.903611</td>\n",
              "    </tr>\n",
              "    <tr>\n",
              "      <th>75%</th>\n",
              "      <td>-78.755000</td>\n",
              "    </tr>\n",
              "    <tr>\n",
              "      <th>max</th>\n",
              "      <td>178.441900</td>\n",
              "    </tr>\n",
              "  </tbody>\n",
              "</table>\n",
              "</div>\n",
              "      <button class=\"colab-df-convert\" onclick=\"convertToInteractive('df-d7ae53ed-baaa-4c08-b72c-010a0467b31c')\"\n",
              "              title=\"Convert this dataframe to an interactive table.\"\n",
              "              style=\"display:none;\">\n",
              "        \n",
              "  <svg xmlns=\"http://www.w3.org/2000/svg\" height=\"24px\"viewBox=\"0 0 24 24\"\n",
              "       width=\"24px\">\n",
              "    <path d=\"M0 0h24v24H0V0z\" fill=\"none\"/>\n",
              "    <path d=\"M18.56 5.44l.94 2.06.94-2.06 2.06-.94-2.06-.94-.94-2.06-.94 2.06-2.06.94zm-11 1L8.5 8.5l.94-2.06 2.06-.94-2.06-.94L8.5 2.5l-.94 2.06-2.06.94zm10 10l.94 2.06.94-2.06 2.06-.94-2.06-.94-.94-2.06-.94 2.06-2.06.94z\"/><path d=\"M17.41 7.96l-1.37-1.37c-.4-.4-.92-.59-1.43-.59-.52 0-1.04.2-1.43.59L10.3 9.45l-7.72 7.72c-.78.78-.78 2.05 0 2.83L4 21.41c.39.39.9.59 1.41.59.51 0 1.02-.2 1.41-.59l7.78-7.78 2.81-2.81c.8-.78.8-2.07 0-2.86zM5.41 20L4 18.59l7.72-7.72 1.47 1.35L5.41 20z\"/>\n",
              "  </svg>\n",
              "      </button>\n",
              "      \n",
              "  <style>\n",
              "    .colab-df-container {\n",
              "      display:flex;\n",
              "      flex-wrap:wrap;\n",
              "      gap: 12px;\n",
              "    }\n",
              "\n",
              "    .colab-df-convert {\n",
              "      background-color: #E8F0FE;\n",
              "      border: none;\n",
              "      border-radius: 50%;\n",
              "      cursor: pointer;\n",
              "      display: none;\n",
              "      fill: #1967D2;\n",
              "      height: 32px;\n",
              "      padding: 0 0 0 0;\n",
              "      width: 32px;\n",
              "    }\n",
              "\n",
              "    .colab-df-convert:hover {\n",
              "      background-color: #E2EBFA;\n",
              "      box-shadow: 0px 1px 2px rgba(60, 64, 67, 0.3), 0px 1px 3px 1px rgba(60, 64, 67, 0.15);\n",
              "      fill: #174EA6;\n",
              "    }\n",
              "\n",
              "    [theme=dark] .colab-df-convert {\n",
              "      background-color: #3B4455;\n",
              "      fill: #D2E3FC;\n",
              "    }\n",
              "\n",
              "    [theme=dark] .colab-df-convert:hover {\n",
              "      background-color: #434B5C;\n",
              "      box-shadow: 0px 1px 3px 1px rgba(0, 0, 0, 0.15);\n",
              "      filter: drop-shadow(0px 1px 2px rgba(0, 0, 0, 0.3));\n",
              "      fill: #FFFFFF;\n",
              "    }\n",
              "  </style>\n",
              "\n",
              "      <script>\n",
              "        const buttonEl =\n",
              "          document.querySelector('#df-d7ae53ed-baaa-4c08-b72c-010a0467b31c button.colab-df-convert');\n",
              "        buttonEl.style.display =\n",
              "          google.colab.kernel.accessAllowed ? 'block' : 'none';\n",
              "\n",
              "        async function convertToInteractive(key) {\n",
              "          const element = document.querySelector('#df-d7ae53ed-baaa-4c08-b72c-010a0467b31c');\n",
              "          const dataTable =\n",
              "            await google.colab.kernel.invokeFunction('convertToInteractive',\n",
              "                                                     [key], {});\n",
              "          if (!dataTable) return;\n",
              "\n",
              "          const docLinkHtml = 'Like what you see? Visit the ' +\n",
              "            '<a target=\"_blank\" href=https://colab.research.google.com/notebooks/data_table.ipynb>data table notebook</a>'\n",
              "            + ' to learn more about interactive tables.';\n",
              "          element.innerHTML = '';\n",
              "          dataTable['output_type'] = 'display_data';\n",
              "          await google.colab.output.renderOutput(dataTable, element);\n",
              "          const docLink = document.createElement('div');\n",
              "          docLink.innerHTML = docLinkHtml;\n",
              "          element.appendChild(docLink);\n",
              "        }\n",
              "      </script>\n",
              "    </div>\n",
              "  </div>\n",
              "  "
            ]
          },
          "metadata": {},
          "execution_count": 200
        }
      ]
    },
    {
      "cell_type": "code",
      "source": [
        "ufo.head(10)"
      ],
      "metadata": {
        "id": "ms1yCNQ4qfq7",
        "outputId": "ca342b00-8370-444e-9ab5-fd554d12ef69",
        "colab": {
          "base_uri": "https://localhost:8080/",
          "height": 363
        }
      },
      "execution_count": null,
      "outputs": [
        {
          "output_type": "execute_result",
          "data": {
            "text/plain": [
              "           datetime                  city state country     shape  \\\n",
              "0  10/10/1949 20:30            san marcos    tx      us  cylinder   \n",
              "1  10/10/1949 21:00          lackland afb    tx     NaN     light   \n",
              "2  10/10/1955 17:00  chester (uk/england)   NaN      gb    circle   \n",
              "3  10/10/1956 21:00                  edna    tx      us    circle   \n",
              "4  10/10/1960 20:00               kaneohe    hi      us     light   \n",
              "5  10/10/1961 19:00               bristol    tn      us    sphere   \n",
              "6  10/10/1965 21:00    penarth (uk/wales)   NaN      gb    circle   \n",
              "7  10/10/1965 23:45               norwalk    ct      us      disk   \n",
              "8  10/10/1966 20:00             pell city    al      us      disk   \n",
              "9  10/10/1966 21:00              live oak    fl      us      disk   \n",
              "\n",
              "  duration (seconds) duration (hours/min)  \\\n",
              "0               2700           45 minutes   \n",
              "1               7200              1-2 hrs   \n",
              "2                 20           20 seconds   \n",
              "3                 20             1/2 hour   \n",
              "4                900           15 minutes   \n",
              "5                300            5 minutes   \n",
              "6                180         about 3 mins   \n",
              "7               1200           20 minutes   \n",
              "8                180           3  minutes   \n",
              "9                120      several minutes   \n",
              "\n",
              "                                            comments date posted    latitude  \\\n",
              "0  This event took place in early fall around 194...   4/27/2004  29.8830556   \n",
              "1  1949 Lackland AFB&#44 TX.  Lights racing acros...  12/16/2005    29.38421   \n",
              "2  Green/Orange circular disc over Chester&#44 En...   1/21/2008        53.2   \n",
              "3  My older brother and twin sister were leaving ...   1/17/2004  28.9783333   \n",
              "4  AS a Marine 1st Lt. flying an FJ4B fighter/att...   1/22/2004  21.4180556   \n",
              "5  My father is now 89 my brother 52 the girl wit...   4/27/2007  36.5950000   \n",
              "6  penarth uk  circle  3mins  stayed 30ft above m...   2/14/2006   51.434722   \n",
              "7  A bright orange color changing to reddish colo...   10/2/1999  41.1175000   \n",
              "8  Strobe Lighted disk shape object observed clos...   3/19/2009  33.5861111   \n",
              "9  Saucer zaps energy from powerline as my pregna...   5/11/2005  30.2947222   \n",
              "\n",
              "   longitude   \n",
              "0  -97.941111  \n",
              "1  -98.581082  \n",
              "2   -2.916667  \n",
              "3  -96.645833  \n",
              "4 -157.803611  \n",
              "5  -82.188889  \n",
              "6   -3.180000  \n",
              "7  -73.408333  \n",
              "8  -86.286111  \n",
              "9  -82.984167  "
            ],
            "text/html": [
              "\n",
              "  <div id=\"df-31a809ed-5907-4269-81b7-a7f569cea281\">\n",
              "    <div class=\"colab-df-container\">\n",
              "      <div>\n",
              "<style scoped>\n",
              "    .dataframe tbody tr th:only-of-type {\n",
              "        vertical-align: middle;\n",
              "    }\n",
              "\n",
              "    .dataframe tbody tr th {\n",
              "        vertical-align: top;\n",
              "    }\n",
              "\n",
              "    .dataframe thead th {\n",
              "        text-align: right;\n",
              "    }\n",
              "</style>\n",
              "<table border=\"1\" class=\"dataframe\">\n",
              "  <thead>\n",
              "    <tr style=\"text-align: right;\">\n",
              "      <th></th>\n",
              "      <th>datetime</th>\n",
              "      <th>city</th>\n",
              "      <th>state</th>\n",
              "      <th>country</th>\n",
              "      <th>shape</th>\n",
              "      <th>duration (seconds)</th>\n",
              "      <th>duration (hours/min)</th>\n",
              "      <th>comments</th>\n",
              "      <th>date posted</th>\n",
              "      <th>latitude</th>\n",
              "      <th>longitude</th>\n",
              "    </tr>\n",
              "  </thead>\n",
              "  <tbody>\n",
              "    <tr>\n",
              "      <th>0</th>\n",
              "      <td>10/10/1949 20:30</td>\n",
              "      <td>san marcos</td>\n",
              "      <td>tx</td>\n",
              "      <td>us</td>\n",
              "      <td>cylinder</td>\n",
              "      <td>2700</td>\n",
              "      <td>45 minutes</td>\n",
              "      <td>This event took place in early fall around 194...</td>\n",
              "      <td>4/27/2004</td>\n",
              "      <td>29.8830556</td>\n",
              "      <td>-97.941111</td>\n",
              "    </tr>\n",
              "    <tr>\n",
              "      <th>1</th>\n",
              "      <td>10/10/1949 21:00</td>\n",
              "      <td>lackland afb</td>\n",
              "      <td>tx</td>\n",
              "      <td>NaN</td>\n",
              "      <td>light</td>\n",
              "      <td>7200</td>\n",
              "      <td>1-2 hrs</td>\n",
              "      <td>1949 Lackland AFB&amp;#44 TX.  Lights racing acros...</td>\n",
              "      <td>12/16/2005</td>\n",
              "      <td>29.38421</td>\n",
              "      <td>-98.581082</td>\n",
              "    </tr>\n",
              "    <tr>\n",
              "      <th>2</th>\n",
              "      <td>10/10/1955 17:00</td>\n",
              "      <td>chester (uk/england)</td>\n",
              "      <td>NaN</td>\n",
              "      <td>gb</td>\n",
              "      <td>circle</td>\n",
              "      <td>20</td>\n",
              "      <td>20 seconds</td>\n",
              "      <td>Green/Orange circular disc over Chester&amp;#44 En...</td>\n",
              "      <td>1/21/2008</td>\n",
              "      <td>53.2</td>\n",
              "      <td>-2.916667</td>\n",
              "    </tr>\n",
              "    <tr>\n",
              "      <th>3</th>\n",
              "      <td>10/10/1956 21:00</td>\n",
              "      <td>edna</td>\n",
              "      <td>tx</td>\n",
              "      <td>us</td>\n",
              "      <td>circle</td>\n",
              "      <td>20</td>\n",
              "      <td>1/2 hour</td>\n",
              "      <td>My older brother and twin sister were leaving ...</td>\n",
              "      <td>1/17/2004</td>\n",
              "      <td>28.9783333</td>\n",
              "      <td>-96.645833</td>\n",
              "    </tr>\n",
              "    <tr>\n",
              "      <th>4</th>\n",
              "      <td>10/10/1960 20:00</td>\n",
              "      <td>kaneohe</td>\n",
              "      <td>hi</td>\n",
              "      <td>us</td>\n",
              "      <td>light</td>\n",
              "      <td>900</td>\n",
              "      <td>15 minutes</td>\n",
              "      <td>AS a Marine 1st Lt. flying an FJ4B fighter/att...</td>\n",
              "      <td>1/22/2004</td>\n",
              "      <td>21.4180556</td>\n",
              "      <td>-157.803611</td>\n",
              "    </tr>\n",
              "    <tr>\n",
              "      <th>5</th>\n",
              "      <td>10/10/1961 19:00</td>\n",
              "      <td>bristol</td>\n",
              "      <td>tn</td>\n",
              "      <td>us</td>\n",
              "      <td>sphere</td>\n",
              "      <td>300</td>\n",
              "      <td>5 minutes</td>\n",
              "      <td>My father is now 89 my brother 52 the girl wit...</td>\n",
              "      <td>4/27/2007</td>\n",
              "      <td>36.5950000</td>\n",
              "      <td>-82.188889</td>\n",
              "    </tr>\n",
              "    <tr>\n",
              "      <th>6</th>\n",
              "      <td>10/10/1965 21:00</td>\n",
              "      <td>penarth (uk/wales)</td>\n",
              "      <td>NaN</td>\n",
              "      <td>gb</td>\n",
              "      <td>circle</td>\n",
              "      <td>180</td>\n",
              "      <td>about 3 mins</td>\n",
              "      <td>penarth uk  circle  3mins  stayed 30ft above m...</td>\n",
              "      <td>2/14/2006</td>\n",
              "      <td>51.434722</td>\n",
              "      <td>-3.180000</td>\n",
              "    </tr>\n",
              "    <tr>\n",
              "      <th>7</th>\n",
              "      <td>10/10/1965 23:45</td>\n",
              "      <td>norwalk</td>\n",
              "      <td>ct</td>\n",
              "      <td>us</td>\n",
              "      <td>disk</td>\n",
              "      <td>1200</td>\n",
              "      <td>20 minutes</td>\n",
              "      <td>A bright orange color changing to reddish colo...</td>\n",
              "      <td>10/2/1999</td>\n",
              "      <td>41.1175000</td>\n",
              "      <td>-73.408333</td>\n",
              "    </tr>\n",
              "    <tr>\n",
              "      <th>8</th>\n",
              "      <td>10/10/1966 20:00</td>\n",
              "      <td>pell city</td>\n",
              "      <td>al</td>\n",
              "      <td>us</td>\n",
              "      <td>disk</td>\n",
              "      <td>180</td>\n",
              "      <td>3  minutes</td>\n",
              "      <td>Strobe Lighted disk shape object observed clos...</td>\n",
              "      <td>3/19/2009</td>\n",
              "      <td>33.5861111</td>\n",
              "      <td>-86.286111</td>\n",
              "    </tr>\n",
              "    <tr>\n",
              "      <th>9</th>\n",
              "      <td>10/10/1966 21:00</td>\n",
              "      <td>live oak</td>\n",
              "      <td>fl</td>\n",
              "      <td>us</td>\n",
              "      <td>disk</td>\n",
              "      <td>120</td>\n",
              "      <td>several minutes</td>\n",
              "      <td>Saucer zaps energy from powerline as my pregna...</td>\n",
              "      <td>5/11/2005</td>\n",
              "      <td>30.2947222</td>\n",
              "      <td>-82.984167</td>\n",
              "    </tr>\n",
              "  </tbody>\n",
              "</table>\n",
              "</div>\n",
              "      <button class=\"colab-df-convert\" onclick=\"convertToInteractive('df-31a809ed-5907-4269-81b7-a7f569cea281')\"\n",
              "              title=\"Convert this dataframe to an interactive table.\"\n",
              "              style=\"display:none;\">\n",
              "        \n",
              "  <svg xmlns=\"http://www.w3.org/2000/svg\" height=\"24px\"viewBox=\"0 0 24 24\"\n",
              "       width=\"24px\">\n",
              "    <path d=\"M0 0h24v24H0V0z\" fill=\"none\"/>\n",
              "    <path d=\"M18.56 5.44l.94 2.06.94-2.06 2.06-.94-2.06-.94-.94-2.06-.94 2.06-2.06.94zm-11 1L8.5 8.5l.94-2.06 2.06-.94-2.06-.94L8.5 2.5l-.94 2.06-2.06.94zm10 10l.94 2.06.94-2.06 2.06-.94-2.06-.94-.94-2.06-.94 2.06-2.06.94z\"/><path d=\"M17.41 7.96l-1.37-1.37c-.4-.4-.92-.59-1.43-.59-.52 0-1.04.2-1.43.59L10.3 9.45l-7.72 7.72c-.78.78-.78 2.05 0 2.83L4 21.41c.39.39.9.59 1.41.59.51 0 1.02-.2 1.41-.59l7.78-7.78 2.81-2.81c.8-.78.8-2.07 0-2.86zM5.41 20L4 18.59l7.72-7.72 1.47 1.35L5.41 20z\"/>\n",
              "  </svg>\n",
              "      </button>\n",
              "      \n",
              "  <style>\n",
              "    .colab-df-container {\n",
              "      display:flex;\n",
              "      flex-wrap:wrap;\n",
              "      gap: 12px;\n",
              "    }\n",
              "\n",
              "    .colab-df-convert {\n",
              "      background-color: #E8F0FE;\n",
              "      border: none;\n",
              "      border-radius: 50%;\n",
              "      cursor: pointer;\n",
              "      display: none;\n",
              "      fill: #1967D2;\n",
              "      height: 32px;\n",
              "      padding: 0 0 0 0;\n",
              "      width: 32px;\n",
              "    }\n",
              "\n",
              "    .colab-df-convert:hover {\n",
              "      background-color: #E2EBFA;\n",
              "      box-shadow: 0px 1px 2px rgba(60, 64, 67, 0.3), 0px 1px 3px 1px rgba(60, 64, 67, 0.15);\n",
              "      fill: #174EA6;\n",
              "    }\n",
              "\n",
              "    [theme=dark] .colab-df-convert {\n",
              "      background-color: #3B4455;\n",
              "      fill: #D2E3FC;\n",
              "    }\n",
              "\n",
              "    [theme=dark] .colab-df-convert:hover {\n",
              "      background-color: #434B5C;\n",
              "      box-shadow: 0px 1px 3px 1px rgba(0, 0, 0, 0.15);\n",
              "      filter: drop-shadow(0px 1px 2px rgba(0, 0, 0, 0.3));\n",
              "      fill: #FFFFFF;\n",
              "    }\n",
              "  </style>\n",
              "\n",
              "      <script>\n",
              "        const buttonEl =\n",
              "          document.querySelector('#df-31a809ed-5907-4269-81b7-a7f569cea281 button.colab-df-convert');\n",
              "        buttonEl.style.display =\n",
              "          google.colab.kernel.accessAllowed ? 'block' : 'none';\n",
              "\n",
              "        async function convertToInteractive(key) {\n",
              "          const element = document.querySelector('#df-31a809ed-5907-4269-81b7-a7f569cea281');\n",
              "          const dataTable =\n",
              "            await google.colab.kernel.invokeFunction('convertToInteractive',\n",
              "                                                     [key], {});\n",
              "          if (!dataTable) return;\n",
              "\n",
              "          const docLinkHtml = 'Like what you see? Visit the ' +\n",
              "            '<a target=\"_blank\" href=https://colab.research.google.com/notebooks/data_table.ipynb>data table notebook</a>'\n",
              "            + ' to learn more about interactive tables.';\n",
              "          element.innerHTML = '';\n",
              "          dataTable['output_type'] = 'display_data';\n",
              "          await google.colab.output.renderOutput(dataTable, element);\n",
              "          const docLink = document.createElement('div');\n",
              "          docLink.innerHTML = docLinkHtml;\n",
              "          element.appendChild(docLink);\n",
              "        }\n",
              "      </script>\n",
              "    </div>\n",
              "  </div>\n",
              "  "
            ]
          },
          "metadata": {},
          "execution_count": 201
        }
      ]
    },
    {
      "cell_type": "markdown",
      "source": [
        "#2. Data cleansing and Data validity."
      ],
      "metadata": {
        "id": "JTivl47u-wrA"
      }
    },
    {
      "cell_type": "code",
      "source": [
        "ufo = ufo.drop(ufo.columns[[6,7,8,9,10]], axis=1)\n",
        "\n",
        "ufo.head(10)"
      ],
      "metadata": {
        "colab": {
          "base_uri": "https://localhost:8080/",
          "height": 363
        },
        "id": "3wPjX9UnstI3",
        "outputId": "2917518c-bad3-44db-d7cd-393a9b76884d"
      },
      "execution_count": null,
      "outputs": [
        {
          "output_type": "execute_result",
          "data": {
            "text/plain": [
              "           datetime                  city state country     shape  \\\n",
              "0  10/10/1949 20:30            san marcos    tx      us  cylinder   \n",
              "1  10/10/1949 21:00          lackland afb    tx     NaN     light   \n",
              "2  10/10/1955 17:00  chester (uk/england)   NaN      gb    circle   \n",
              "3  10/10/1956 21:00                  edna    tx      us    circle   \n",
              "4  10/10/1960 20:00               kaneohe    hi      us     light   \n",
              "5  10/10/1961 19:00               bristol    tn      us    sphere   \n",
              "6  10/10/1965 21:00    penarth (uk/wales)   NaN      gb    circle   \n",
              "7  10/10/1965 23:45               norwalk    ct      us      disk   \n",
              "8  10/10/1966 20:00             pell city    al      us      disk   \n",
              "9  10/10/1966 21:00              live oak    fl      us      disk   \n",
              "\n",
              "  duration (seconds)  \n",
              "0               2700  \n",
              "1               7200  \n",
              "2                 20  \n",
              "3                 20  \n",
              "4                900  \n",
              "5                300  \n",
              "6                180  \n",
              "7               1200  \n",
              "8                180  \n",
              "9                120  "
            ],
            "text/html": [
              "\n",
              "  <div id=\"df-a74b707c-e147-4fd6-b819-17f84ee38a32\">\n",
              "    <div class=\"colab-df-container\">\n",
              "      <div>\n",
              "<style scoped>\n",
              "    .dataframe tbody tr th:only-of-type {\n",
              "        vertical-align: middle;\n",
              "    }\n",
              "\n",
              "    .dataframe tbody tr th {\n",
              "        vertical-align: top;\n",
              "    }\n",
              "\n",
              "    .dataframe thead th {\n",
              "        text-align: right;\n",
              "    }\n",
              "</style>\n",
              "<table border=\"1\" class=\"dataframe\">\n",
              "  <thead>\n",
              "    <tr style=\"text-align: right;\">\n",
              "      <th></th>\n",
              "      <th>datetime</th>\n",
              "      <th>city</th>\n",
              "      <th>state</th>\n",
              "      <th>country</th>\n",
              "      <th>shape</th>\n",
              "      <th>duration (seconds)</th>\n",
              "    </tr>\n",
              "  </thead>\n",
              "  <tbody>\n",
              "    <tr>\n",
              "      <th>0</th>\n",
              "      <td>10/10/1949 20:30</td>\n",
              "      <td>san marcos</td>\n",
              "      <td>tx</td>\n",
              "      <td>us</td>\n",
              "      <td>cylinder</td>\n",
              "      <td>2700</td>\n",
              "    </tr>\n",
              "    <tr>\n",
              "      <th>1</th>\n",
              "      <td>10/10/1949 21:00</td>\n",
              "      <td>lackland afb</td>\n",
              "      <td>tx</td>\n",
              "      <td>NaN</td>\n",
              "      <td>light</td>\n",
              "      <td>7200</td>\n",
              "    </tr>\n",
              "    <tr>\n",
              "      <th>2</th>\n",
              "      <td>10/10/1955 17:00</td>\n",
              "      <td>chester (uk/england)</td>\n",
              "      <td>NaN</td>\n",
              "      <td>gb</td>\n",
              "      <td>circle</td>\n",
              "      <td>20</td>\n",
              "    </tr>\n",
              "    <tr>\n",
              "      <th>3</th>\n",
              "      <td>10/10/1956 21:00</td>\n",
              "      <td>edna</td>\n",
              "      <td>tx</td>\n",
              "      <td>us</td>\n",
              "      <td>circle</td>\n",
              "      <td>20</td>\n",
              "    </tr>\n",
              "    <tr>\n",
              "      <th>4</th>\n",
              "      <td>10/10/1960 20:00</td>\n",
              "      <td>kaneohe</td>\n",
              "      <td>hi</td>\n",
              "      <td>us</td>\n",
              "      <td>light</td>\n",
              "      <td>900</td>\n",
              "    </tr>\n",
              "    <tr>\n",
              "      <th>5</th>\n",
              "      <td>10/10/1961 19:00</td>\n",
              "      <td>bristol</td>\n",
              "      <td>tn</td>\n",
              "      <td>us</td>\n",
              "      <td>sphere</td>\n",
              "      <td>300</td>\n",
              "    </tr>\n",
              "    <tr>\n",
              "      <th>6</th>\n",
              "      <td>10/10/1965 21:00</td>\n",
              "      <td>penarth (uk/wales)</td>\n",
              "      <td>NaN</td>\n",
              "      <td>gb</td>\n",
              "      <td>circle</td>\n",
              "      <td>180</td>\n",
              "    </tr>\n",
              "    <tr>\n",
              "      <th>7</th>\n",
              "      <td>10/10/1965 23:45</td>\n",
              "      <td>norwalk</td>\n",
              "      <td>ct</td>\n",
              "      <td>us</td>\n",
              "      <td>disk</td>\n",
              "      <td>1200</td>\n",
              "    </tr>\n",
              "    <tr>\n",
              "      <th>8</th>\n",
              "      <td>10/10/1966 20:00</td>\n",
              "      <td>pell city</td>\n",
              "      <td>al</td>\n",
              "      <td>us</td>\n",
              "      <td>disk</td>\n",
              "      <td>180</td>\n",
              "    </tr>\n",
              "    <tr>\n",
              "      <th>9</th>\n",
              "      <td>10/10/1966 21:00</td>\n",
              "      <td>live oak</td>\n",
              "      <td>fl</td>\n",
              "      <td>us</td>\n",
              "      <td>disk</td>\n",
              "      <td>120</td>\n",
              "    </tr>\n",
              "  </tbody>\n",
              "</table>\n",
              "</div>\n",
              "      <button class=\"colab-df-convert\" onclick=\"convertToInteractive('df-a74b707c-e147-4fd6-b819-17f84ee38a32')\"\n",
              "              title=\"Convert this dataframe to an interactive table.\"\n",
              "              style=\"display:none;\">\n",
              "        \n",
              "  <svg xmlns=\"http://www.w3.org/2000/svg\" height=\"24px\"viewBox=\"0 0 24 24\"\n",
              "       width=\"24px\">\n",
              "    <path d=\"M0 0h24v24H0V0z\" fill=\"none\"/>\n",
              "    <path d=\"M18.56 5.44l.94 2.06.94-2.06 2.06-.94-2.06-.94-.94-2.06-.94 2.06-2.06.94zm-11 1L8.5 8.5l.94-2.06 2.06-.94-2.06-.94L8.5 2.5l-.94 2.06-2.06.94zm10 10l.94 2.06.94-2.06 2.06-.94-2.06-.94-.94-2.06-.94 2.06-2.06.94z\"/><path d=\"M17.41 7.96l-1.37-1.37c-.4-.4-.92-.59-1.43-.59-.52 0-1.04.2-1.43.59L10.3 9.45l-7.72 7.72c-.78.78-.78 2.05 0 2.83L4 21.41c.39.39.9.59 1.41.59.51 0 1.02-.2 1.41-.59l7.78-7.78 2.81-2.81c.8-.78.8-2.07 0-2.86zM5.41 20L4 18.59l7.72-7.72 1.47 1.35L5.41 20z\"/>\n",
              "  </svg>\n",
              "      </button>\n",
              "      \n",
              "  <style>\n",
              "    .colab-df-container {\n",
              "      display:flex;\n",
              "      flex-wrap:wrap;\n",
              "      gap: 12px;\n",
              "    }\n",
              "\n",
              "    .colab-df-convert {\n",
              "      background-color: #E8F0FE;\n",
              "      border: none;\n",
              "      border-radius: 50%;\n",
              "      cursor: pointer;\n",
              "      display: none;\n",
              "      fill: #1967D2;\n",
              "      height: 32px;\n",
              "      padding: 0 0 0 0;\n",
              "      width: 32px;\n",
              "    }\n",
              "\n",
              "    .colab-df-convert:hover {\n",
              "      background-color: #E2EBFA;\n",
              "      box-shadow: 0px 1px 2px rgba(60, 64, 67, 0.3), 0px 1px 3px 1px rgba(60, 64, 67, 0.15);\n",
              "      fill: #174EA6;\n",
              "    }\n",
              "\n",
              "    [theme=dark] .colab-df-convert {\n",
              "      background-color: #3B4455;\n",
              "      fill: #D2E3FC;\n",
              "    }\n",
              "\n",
              "    [theme=dark] .colab-df-convert:hover {\n",
              "      background-color: #434B5C;\n",
              "      box-shadow: 0px 1px 3px 1px rgba(0, 0, 0, 0.15);\n",
              "      filter: drop-shadow(0px 1px 2px rgba(0, 0, 0, 0.3));\n",
              "      fill: #FFFFFF;\n",
              "    }\n",
              "  </style>\n",
              "\n",
              "      <script>\n",
              "        const buttonEl =\n",
              "          document.querySelector('#df-a74b707c-e147-4fd6-b819-17f84ee38a32 button.colab-df-convert');\n",
              "        buttonEl.style.display =\n",
              "          google.colab.kernel.accessAllowed ? 'block' : 'none';\n",
              "\n",
              "        async function convertToInteractive(key) {\n",
              "          const element = document.querySelector('#df-a74b707c-e147-4fd6-b819-17f84ee38a32');\n",
              "          const dataTable =\n",
              "            await google.colab.kernel.invokeFunction('convertToInteractive',\n",
              "                                                     [key], {});\n",
              "          if (!dataTable) return;\n",
              "\n",
              "          const docLinkHtml = 'Like what you see? Visit the ' +\n",
              "            '<a target=\"_blank\" href=https://colab.research.google.com/notebooks/data_table.ipynb>data table notebook</a>'\n",
              "            + ' to learn more about interactive tables.';\n",
              "          element.innerHTML = '';\n",
              "          dataTable['output_type'] = 'display_data';\n",
              "          await google.colab.output.renderOutput(dataTable, element);\n",
              "          const docLink = document.createElement('div');\n",
              "          docLink.innerHTML = docLinkHtml;\n",
              "          element.appendChild(docLink);\n",
              "        }\n",
              "      </script>\n",
              "    </div>\n",
              "  </div>\n",
              "  "
            ]
          },
          "metadata": {},
          "execution_count": 202
        }
      ]
    },
    {
      "cell_type": "code",
      "source": [
        "#Check the number of NaN values in every column.\n",
        "ufo.isnull().sum().sort_values(ascending=False)"
      ],
      "metadata": {
        "id": "BCbCnOq5-81w",
        "outputId": "00ad0286-9d91-4904-c5fe-d8451d3b4bd6",
        "colab": {
          "base_uri": "https://localhost:8080/"
        }
      },
      "execution_count": null,
      "outputs": [
        {
          "output_type": "execute_result",
          "data": {
            "text/plain": [
              "country               9670\n",
              "state                 5797\n",
              "shape                 1932\n",
              "datetime                 0\n",
              "city                     0\n",
              "duration (seconds)       0\n",
              "dtype: int64"
            ]
          },
          "metadata": {},
          "execution_count": 203
        }
      ]
    },
    {
      "cell_type": "markdown",
      "source": [
        "ชุดข้อมูลนี้มีคอลัมน์ที่มี NaN ดังนี้\n",
        "* country จำนวน 9670 ข้อมูล\n",
        "* state จำนวน 5797 ข้อมูล\n",
        "* shape จำนวน 1932 ข้อมูล"
      ],
      "metadata": {
        "id": "lmfiiJkurn_q"
      }
    },
    {
      "cell_type": "code",
      "source": [
        "#Fill all missing values in country and state with mode.\n",
        "ufo.country.fillna(ufo.country.mode()[0], inplace=True)\n",
        "ufo.state.fillna(ufo.country.mode()[0], inplace=True)\n",
        "\n",
        "#Fill all missing values in shape with 'unknown'.\n",
        "ufo['shape'].fillna('unknown', inplace=True)\n",
        "\n",
        "#Check the number of NaN values in every column.\n",
        "ufo.isnull().sum()"
      ],
      "metadata": {
        "colab": {
          "base_uri": "https://localhost:8080/"
        },
        "id": "S0lGZzhewArQ",
        "outputId": "3e794d0d-0231-4f08-8f38-e12b86e98858"
      },
      "execution_count": null,
      "outputs": [
        {
          "output_type": "execute_result",
          "data": {
            "text/plain": [
              "datetime              0\n",
              "city                  0\n",
              "state                 0\n",
              "country               0\n",
              "shape                 0\n",
              "duration (seconds)    0\n",
              "dtype: int64"
            ]
          },
          "metadata": {},
          "execution_count": 204
        }
      ]
    },
    {
      "cell_type": "markdown",
      "source": [
        "จัดการกับคอลัมน์ที่มี NaN ดังนี้\n",
        "* country : ใช้หลักการ Replace NaN with a Scalar Value ในการ cleansing ข้อมูลในคอลัมน์ country เนื่องจากข้อมูลเป็นตำแหน่งสถานที่\n",
        "* state : ใช้หลักการ Replace NaN with a Scalar Value ในการ cleansing ข้อมูลในคอลัมน์ state เนื่องจากข้อมูลเป็นตำแหน่งสถานที่\n",
        "* shape : จัดการข้อมูล NaN ในคอลัมน์ shape โดยการเปลี่ยนเป็น unknow เพื่อจัดระเบียบค่าที่หายไป และแก้ไขข้อผิดพลาดของรูปแบบข้อมูลที่ซ้ำกัน โดยการรวมข้อมูล other และ unknow เข้าด้วยกันเนื่องจากเป็นรูปแบบข้อมูลที่คล้ายกัน\n",
        "* comments : จัดการข้อมูลที่เป็น NaN เป็น no comments"
      ],
      "metadata": {
        "id": "H6tl6vQ97BIv"
      }
    },
    {
      "cell_type": "code",
      "source": [
        "ufo['shape'].value_counts()"
      ],
      "metadata": {
        "id": "70S_97Wa9XFe",
        "colab": {
          "base_uri": "https://localhost:8080/"
        },
        "outputId": "8729dc5f-95aa-47a3-eeb4-8f6e6e5bb0fd"
      },
      "execution_count": null,
      "outputs": [
        {
          "output_type": "execute_result",
          "data": {
            "text/plain": [
              "light        16565\n",
              "triangle      7865\n",
              "circle        7608\n",
              "unknown       7516\n",
              "fireball      6208\n",
              "other         5649\n",
              "sphere        5387\n",
              "disk          5213\n",
              "oval          3733\n",
              "formation     2457\n",
              "cigar         2057\n",
              "changing      1962\n",
              "flash         1328\n",
              "rectangle     1297\n",
              "cylinder      1283\n",
              "diamond       1178\n",
              "chevron        952\n",
              "egg            759\n",
              "teardrop       750\n",
              "cone           316\n",
              "cross          233\n",
              "delta            7\n",
              "round            2\n",
              "crescent         2\n",
              "pyramid          1\n",
              "flare            1\n",
              "hexagon          1\n",
              "dome             1\n",
              "changed          1\n",
              "Name: shape, dtype: int64"
            ]
          },
          "metadata": {},
          "execution_count": 205
        }
      ]
    },
    {
      "cell_type": "code",
      "source": [
        "ufo['shape'].value_counts()"
      ],
      "metadata": {
        "colab": {
          "base_uri": "https://localhost:8080/"
        },
        "id": "_BA0GLedDprk",
        "outputId": "3d2da60d-dbb6-434f-c68f-90c47160e75c"
      },
      "execution_count": null,
      "outputs": [
        {
          "output_type": "execute_result",
          "data": {
            "text/plain": [
              "light        16565\n",
              "triangle      7865\n",
              "circle        7608\n",
              "unknown       7516\n",
              "fireball      6208\n",
              "other         5649\n",
              "sphere        5387\n",
              "disk          5213\n",
              "oval          3733\n",
              "formation     2457\n",
              "cigar         2057\n",
              "changing      1962\n",
              "flash         1328\n",
              "rectangle     1297\n",
              "cylinder      1283\n",
              "diamond       1178\n",
              "chevron        952\n",
              "egg            759\n",
              "teardrop       750\n",
              "cone           316\n",
              "cross          233\n",
              "delta            7\n",
              "round            2\n",
              "crescent         2\n",
              "pyramid          1\n",
              "flare            1\n",
              "hexagon          1\n",
              "dome             1\n",
              "changed          1\n",
              "Name: shape, dtype: int64"
            ]
          },
          "metadata": {},
          "execution_count": 206
        }
      ]
    },
    {
      "cell_type": "markdown",
      "source": [
        "แสดง value ของ shape เพื่อตรวจสอบข้อมูลที่ต้องแก้ไข"
      ],
      "metadata": {
        "id": "rH4S_qBsbCR3"
      }
    },
    {
      "cell_type": "code",
      "source": [
        "#Replace shape with value 'other' with 'unknown'.\n",
        "ufo['shape'] = ufo['shape'].replace('other','unknown')\n",
        "\n",
        "#Replace shape with value 'changed' with 'changing'.\n",
        "ufo['shape'] = ufo['shape'].replace('changed','changing')\n",
        "\n",
        "ufo['shape'].value_counts()"
      ],
      "metadata": {
        "colab": {
          "base_uri": "https://localhost:8080/"
        },
        "id": "KnoK-gQwDwWd",
        "outputId": "b4110117-2157-4504-924a-a23addb656aa"
      },
      "execution_count": null,
      "outputs": [
        {
          "output_type": "execute_result",
          "data": {
            "text/plain": [
              "light        16565\n",
              "unknown      13165\n",
              "triangle      7865\n",
              "circle        7608\n",
              "fireball      6208\n",
              "sphere        5387\n",
              "disk          5213\n",
              "oval          3733\n",
              "formation     2457\n",
              "cigar         2057\n",
              "changing      1963\n",
              "flash         1328\n",
              "rectangle     1297\n",
              "cylinder      1283\n",
              "diamond       1178\n",
              "chevron        952\n",
              "egg            759\n",
              "teardrop       750\n",
              "cone           316\n",
              "cross          233\n",
              "delta            7\n",
              "round            2\n",
              "crescent         2\n",
              "pyramid          1\n",
              "flare            1\n",
              "hexagon          1\n",
              "dome             1\n",
              "Name: shape, dtype: int64"
            ]
          },
          "metadata": {},
          "execution_count": 207
        }
      ]
    },
    {
      "cell_type": "markdown",
      "source": [
        "replace คอลัมน์ shape ที่มีค่า 'other' ด้วยค่า 'unknown' และ  replace ค่า 'changed' ด้วยค่า 'changing'"
      ],
      "metadata": {
        "id": "DT6Jgv8xbETt"
      }
    },
    {
      "cell_type": "code",
      "source": [
        "ufo['duration (seconds)'] = ufo['duration (seconds)'].astype('float')"
      ],
      "metadata": {
        "colab": {
          "base_uri": "https://localhost:8080/",
          "height": 311
        },
        "id": "twBnB0s6RevO",
        "outputId": "9dbff05e-c8c1-4ab8-d568-e2a4a72ae7ae"
      },
      "execution_count": null,
      "outputs": [
        {
          "output_type": "error",
          "ename": "ValueError",
          "evalue": "ignored",
          "traceback": [
            "\u001b[0;31m---------------------------------------------------------------------------\u001b[0m",
            "\u001b[0;31mValueError\u001b[0m                                Traceback (most recent call last)",
            "\u001b[0;32m<ipython-input-208-e722ec77a961>\u001b[0m in \u001b[0;36m<module>\u001b[0;34m\u001b[0m\n\u001b[0;32m----> 1\u001b[0;31m \u001b[0mufo\u001b[0m\u001b[0;34m[\u001b[0m\u001b[0;34m'duration (seconds)'\u001b[0m\u001b[0;34m]\u001b[0m \u001b[0;34m=\u001b[0m \u001b[0mufo\u001b[0m\u001b[0;34m[\u001b[0m\u001b[0;34m'duration (seconds)'\u001b[0m\u001b[0;34m]\u001b[0m\u001b[0;34m.\u001b[0m\u001b[0mastype\u001b[0m\u001b[0;34m(\u001b[0m\u001b[0;34m'float'\u001b[0m\u001b[0;34m)\u001b[0m\u001b[0;34m\u001b[0m\u001b[0;34m\u001b[0m\u001b[0m\n\u001b[0m",
            "\u001b[0;32m/usr/local/lib/python3.8/dist-packages/pandas/core/generic.py\u001b[0m in \u001b[0;36mastype\u001b[0;34m(self, dtype, copy, errors)\u001b[0m\n\u001b[1;32m   5813\u001b[0m         \u001b[0;32melse\u001b[0m\u001b[0;34m:\u001b[0m\u001b[0;34m\u001b[0m\u001b[0;34m\u001b[0m\u001b[0m\n\u001b[1;32m   5814\u001b[0m             \u001b[0;31m# else, only a single dtype is given\u001b[0m\u001b[0;34m\u001b[0m\u001b[0;34m\u001b[0m\u001b[0;34m\u001b[0m\u001b[0m\n\u001b[0;32m-> 5815\u001b[0;31m             \u001b[0mnew_data\u001b[0m \u001b[0;34m=\u001b[0m \u001b[0mself\u001b[0m\u001b[0;34m.\u001b[0m\u001b[0m_mgr\u001b[0m\u001b[0;34m.\u001b[0m\u001b[0mastype\u001b[0m\u001b[0;34m(\u001b[0m\u001b[0mdtype\u001b[0m\u001b[0;34m=\u001b[0m\u001b[0mdtype\u001b[0m\u001b[0;34m,\u001b[0m \u001b[0mcopy\u001b[0m\u001b[0;34m=\u001b[0m\u001b[0mcopy\u001b[0m\u001b[0;34m,\u001b[0m \u001b[0merrors\u001b[0m\u001b[0;34m=\u001b[0m\u001b[0merrors\u001b[0m\u001b[0;34m)\u001b[0m\u001b[0;34m\u001b[0m\u001b[0;34m\u001b[0m\u001b[0m\n\u001b[0m\u001b[1;32m   5816\u001b[0m             \u001b[0;32mreturn\u001b[0m \u001b[0mself\u001b[0m\u001b[0;34m.\u001b[0m\u001b[0m_constructor\u001b[0m\u001b[0;34m(\u001b[0m\u001b[0mnew_data\u001b[0m\u001b[0;34m)\u001b[0m\u001b[0;34m.\u001b[0m\u001b[0m__finalize__\u001b[0m\u001b[0;34m(\u001b[0m\u001b[0mself\u001b[0m\u001b[0;34m,\u001b[0m \u001b[0mmethod\u001b[0m\u001b[0;34m=\u001b[0m\u001b[0;34m\"astype\"\u001b[0m\u001b[0;34m)\u001b[0m\u001b[0;34m\u001b[0m\u001b[0;34m\u001b[0m\u001b[0m\n\u001b[1;32m   5817\u001b[0m \u001b[0;34m\u001b[0m\u001b[0m\n",
            "\u001b[0;32m/usr/local/lib/python3.8/dist-packages/pandas/core/internals/managers.py\u001b[0m in \u001b[0;36mastype\u001b[0;34m(self, dtype, copy, errors)\u001b[0m\n\u001b[1;32m    416\u001b[0m \u001b[0;34m\u001b[0m\u001b[0m\n\u001b[1;32m    417\u001b[0m     \u001b[0;32mdef\u001b[0m \u001b[0mastype\u001b[0m\u001b[0;34m(\u001b[0m\u001b[0mself\u001b[0m\u001b[0;34m:\u001b[0m \u001b[0mT\u001b[0m\u001b[0;34m,\u001b[0m \u001b[0mdtype\u001b[0m\u001b[0;34m,\u001b[0m \u001b[0mcopy\u001b[0m\u001b[0;34m:\u001b[0m \u001b[0mbool\u001b[0m \u001b[0;34m=\u001b[0m \u001b[0;32mFalse\u001b[0m\u001b[0;34m,\u001b[0m \u001b[0merrors\u001b[0m\u001b[0;34m:\u001b[0m \u001b[0mstr\u001b[0m \u001b[0;34m=\u001b[0m \u001b[0;34m\"raise\"\u001b[0m\u001b[0;34m)\u001b[0m \u001b[0;34m->\u001b[0m \u001b[0mT\u001b[0m\u001b[0;34m:\u001b[0m\u001b[0;34m\u001b[0m\u001b[0;34m\u001b[0m\u001b[0m\n\u001b[0;32m--> 418\u001b[0;31m         \u001b[0;32mreturn\u001b[0m \u001b[0mself\u001b[0m\u001b[0;34m.\u001b[0m\u001b[0mapply\u001b[0m\u001b[0;34m(\u001b[0m\u001b[0;34m\"astype\"\u001b[0m\u001b[0;34m,\u001b[0m \u001b[0mdtype\u001b[0m\u001b[0;34m=\u001b[0m\u001b[0mdtype\u001b[0m\u001b[0;34m,\u001b[0m \u001b[0mcopy\u001b[0m\u001b[0;34m=\u001b[0m\u001b[0mcopy\u001b[0m\u001b[0;34m,\u001b[0m \u001b[0merrors\u001b[0m\u001b[0;34m=\u001b[0m\u001b[0merrors\u001b[0m\u001b[0;34m)\u001b[0m\u001b[0;34m\u001b[0m\u001b[0;34m\u001b[0m\u001b[0m\n\u001b[0m\u001b[1;32m    419\u001b[0m \u001b[0;34m\u001b[0m\u001b[0m\n\u001b[1;32m    420\u001b[0m     def convert(\n",
            "\u001b[0;32m/usr/local/lib/python3.8/dist-packages/pandas/core/internals/managers.py\u001b[0m in \u001b[0;36mapply\u001b[0;34m(self, f, align_keys, ignore_failures, **kwargs)\u001b[0m\n\u001b[1;32m    325\u001b[0m                     \u001b[0mapplied\u001b[0m \u001b[0;34m=\u001b[0m \u001b[0mb\u001b[0m\u001b[0;34m.\u001b[0m\u001b[0mapply\u001b[0m\u001b[0;34m(\u001b[0m\u001b[0mf\u001b[0m\u001b[0;34m,\u001b[0m \u001b[0;34m**\u001b[0m\u001b[0mkwargs\u001b[0m\u001b[0;34m)\u001b[0m\u001b[0;34m\u001b[0m\u001b[0;34m\u001b[0m\u001b[0m\n\u001b[1;32m    326\u001b[0m                 \u001b[0;32melse\u001b[0m\u001b[0;34m:\u001b[0m\u001b[0;34m\u001b[0m\u001b[0;34m\u001b[0m\u001b[0m\n\u001b[0;32m--> 327\u001b[0;31m                     \u001b[0mapplied\u001b[0m \u001b[0;34m=\u001b[0m \u001b[0mgetattr\u001b[0m\u001b[0;34m(\u001b[0m\u001b[0mb\u001b[0m\u001b[0;34m,\u001b[0m \u001b[0mf\u001b[0m\u001b[0;34m)\u001b[0m\u001b[0;34m(\u001b[0m\u001b[0;34m**\u001b[0m\u001b[0mkwargs\u001b[0m\u001b[0;34m)\u001b[0m\u001b[0;34m\u001b[0m\u001b[0;34m\u001b[0m\u001b[0m\n\u001b[0m\u001b[1;32m    328\u001b[0m             \u001b[0;32mexcept\u001b[0m \u001b[0;34m(\u001b[0m\u001b[0mTypeError\u001b[0m\u001b[0;34m,\u001b[0m \u001b[0mNotImplementedError\u001b[0m\u001b[0;34m)\u001b[0m\u001b[0;34m:\u001b[0m\u001b[0;34m\u001b[0m\u001b[0;34m\u001b[0m\u001b[0m\n\u001b[1;32m    329\u001b[0m                 \u001b[0;32mif\u001b[0m \u001b[0;32mnot\u001b[0m \u001b[0mignore_failures\u001b[0m\u001b[0;34m:\u001b[0m\u001b[0;34m\u001b[0m\u001b[0;34m\u001b[0m\u001b[0m\n",
            "\u001b[0;32m/usr/local/lib/python3.8/dist-packages/pandas/core/internals/blocks.py\u001b[0m in \u001b[0;36mastype\u001b[0;34m(self, dtype, copy, errors)\u001b[0m\n\u001b[1;32m    589\u001b[0m         \u001b[0mvalues\u001b[0m \u001b[0;34m=\u001b[0m \u001b[0mself\u001b[0m\u001b[0;34m.\u001b[0m\u001b[0mvalues\u001b[0m\u001b[0;34m\u001b[0m\u001b[0;34m\u001b[0m\u001b[0m\n\u001b[1;32m    590\u001b[0m \u001b[0;34m\u001b[0m\u001b[0m\n\u001b[0;32m--> 591\u001b[0;31m         \u001b[0mnew_values\u001b[0m \u001b[0;34m=\u001b[0m \u001b[0mastype_array_safe\u001b[0m\u001b[0;34m(\u001b[0m\u001b[0mvalues\u001b[0m\u001b[0;34m,\u001b[0m \u001b[0mdtype\u001b[0m\u001b[0;34m,\u001b[0m \u001b[0mcopy\u001b[0m\u001b[0;34m=\u001b[0m\u001b[0mcopy\u001b[0m\u001b[0;34m,\u001b[0m \u001b[0merrors\u001b[0m\u001b[0;34m=\u001b[0m\u001b[0merrors\u001b[0m\u001b[0;34m)\u001b[0m\u001b[0;34m\u001b[0m\u001b[0;34m\u001b[0m\u001b[0m\n\u001b[0m\u001b[1;32m    592\u001b[0m \u001b[0;34m\u001b[0m\u001b[0m\n\u001b[1;32m    593\u001b[0m         \u001b[0mnew_values\u001b[0m \u001b[0;34m=\u001b[0m \u001b[0mmaybe_coerce_values\u001b[0m\u001b[0;34m(\u001b[0m\u001b[0mnew_values\u001b[0m\u001b[0;34m)\u001b[0m\u001b[0;34m\u001b[0m\u001b[0;34m\u001b[0m\u001b[0m\n",
            "\u001b[0;32m/usr/local/lib/python3.8/dist-packages/pandas/core/dtypes/cast.py\u001b[0m in \u001b[0;36mastype_array_safe\u001b[0;34m(values, dtype, copy, errors)\u001b[0m\n\u001b[1;32m   1307\u001b[0m \u001b[0;34m\u001b[0m\u001b[0m\n\u001b[1;32m   1308\u001b[0m     \u001b[0;32mtry\u001b[0m\u001b[0;34m:\u001b[0m\u001b[0;34m\u001b[0m\u001b[0;34m\u001b[0m\u001b[0m\n\u001b[0;32m-> 1309\u001b[0;31m         \u001b[0mnew_values\u001b[0m \u001b[0;34m=\u001b[0m \u001b[0mastype_array\u001b[0m\u001b[0;34m(\u001b[0m\u001b[0mvalues\u001b[0m\u001b[0;34m,\u001b[0m \u001b[0mdtype\u001b[0m\u001b[0;34m,\u001b[0m \u001b[0mcopy\u001b[0m\u001b[0;34m=\u001b[0m\u001b[0mcopy\u001b[0m\u001b[0;34m)\u001b[0m\u001b[0;34m\u001b[0m\u001b[0;34m\u001b[0m\u001b[0m\n\u001b[0m\u001b[1;32m   1310\u001b[0m     \u001b[0;32mexcept\u001b[0m \u001b[0;34m(\u001b[0m\u001b[0mValueError\u001b[0m\u001b[0;34m,\u001b[0m \u001b[0mTypeError\u001b[0m\u001b[0;34m)\u001b[0m\u001b[0;34m:\u001b[0m\u001b[0;34m\u001b[0m\u001b[0;34m\u001b[0m\u001b[0m\n\u001b[1;32m   1311\u001b[0m         \u001b[0;31m# e.g. astype_nansafe can fail on object-dtype of strings\u001b[0m\u001b[0;34m\u001b[0m\u001b[0;34m\u001b[0m\u001b[0;34m\u001b[0m\u001b[0m\n",
            "\u001b[0;32m/usr/local/lib/python3.8/dist-packages/pandas/core/dtypes/cast.py\u001b[0m in \u001b[0;36mastype_array\u001b[0;34m(values, dtype, copy)\u001b[0m\n\u001b[1;32m   1255\u001b[0m \u001b[0;34m\u001b[0m\u001b[0m\n\u001b[1;32m   1256\u001b[0m     \u001b[0;32melse\u001b[0m\u001b[0;34m:\u001b[0m\u001b[0;34m\u001b[0m\u001b[0;34m\u001b[0m\u001b[0m\n\u001b[0;32m-> 1257\u001b[0;31m         \u001b[0mvalues\u001b[0m \u001b[0;34m=\u001b[0m \u001b[0mastype_nansafe\u001b[0m\u001b[0;34m(\u001b[0m\u001b[0mvalues\u001b[0m\u001b[0;34m,\u001b[0m \u001b[0mdtype\u001b[0m\u001b[0;34m,\u001b[0m \u001b[0mcopy\u001b[0m\u001b[0;34m=\u001b[0m\u001b[0mcopy\u001b[0m\u001b[0;34m)\u001b[0m\u001b[0;34m\u001b[0m\u001b[0;34m\u001b[0m\u001b[0m\n\u001b[0m\u001b[1;32m   1258\u001b[0m \u001b[0;34m\u001b[0m\u001b[0m\n\u001b[1;32m   1259\u001b[0m     \u001b[0;31m# in pandas we don't store numpy str dtypes, so convert to object\u001b[0m\u001b[0;34m\u001b[0m\u001b[0;34m\u001b[0m\u001b[0;34m\u001b[0m\u001b[0m\n",
            "\u001b[0;32m/usr/local/lib/python3.8/dist-packages/pandas/core/dtypes/cast.py\u001b[0m in \u001b[0;36mastype_nansafe\u001b[0;34m(arr, dtype, copy, skipna)\u001b[0m\n\u001b[1;32m   1199\u001b[0m     \u001b[0;32mif\u001b[0m \u001b[0mcopy\u001b[0m \u001b[0;32mor\u001b[0m \u001b[0mis_object_dtype\u001b[0m\u001b[0;34m(\u001b[0m\u001b[0marr\u001b[0m\u001b[0;34m.\u001b[0m\u001b[0mdtype\u001b[0m\u001b[0;34m)\u001b[0m \u001b[0;32mor\u001b[0m \u001b[0mis_object_dtype\u001b[0m\u001b[0;34m(\u001b[0m\u001b[0mdtype\u001b[0m\u001b[0;34m)\u001b[0m\u001b[0;34m:\u001b[0m\u001b[0;34m\u001b[0m\u001b[0;34m\u001b[0m\u001b[0m\n\u001b[1;32m   1200\u001b[0m         \u001b[0;31m# Explicit copy, or required since NumPy can't view from / to object.\u001b[0m\u001b[0;34m\u001b[0m\u001b[0;34m\u001b[0m\u001b[0;34m\u001b[0m\u001b[0m\n\u001b[0;32m-> 1201\u001b[0;31m         \u001b[0;32mreturn\u001b[0m \u001b[0marr\u001b[0m\u001b[0;34m.\u001b[0m\u001b[0mastype\u001b[0m\u001b[0;34m(\u001b[0m\u001b[0mdtype\u001b[0m\u001b[0;34m,\u001b[0m \u001b[0mcopy\u001b[0m\u001b[0;34m=\u001b[0m\u001b[0;32mTrue\u001b[0m\u001b[0;34m)\u001b[0m\u001b[0;34m\u001b[0m\u001b[0;34m\u001b[0m\u001b[0m\n\u001b[0m\u001b[1;32m   1202\u001b[0m \u001b[0;34m\u001b[0m\u001b[0m\n\u001b[1;32m   1203\u001b[0m     \u001b[0;32mreturn\u001b[0m \u001b[0marr\u001b[0m\u001b[0;34m.\u001b[0m\u001b[0mastype\u001b[0m\u001b[0;34m(\u001b[0m\u001b[0mdtype\u001b[0m\u001b[0;34m,\u001b[0m \u001b[0mcopy\u001b[0m\u001b[0;34m=\u001b[0m\u001b[0mcopy\u001b[0m\u001b[0;34m)\u001b[0m\u001b[0;34m\u001b[0m\u001b[0;34m\u001b[0m\u001b[0m\n",
            "\u001b[0;31mValueError\u001b[0m: could not convert string to float: '2`'"
          ]
        }
      ]
    },
    {
      "cell_type": "markdown",
      "source": [
        "ต้องการเปลี่ยนหน่วยของค่าใน duration (seconds) จาก object เป็น float แต่ขึ้น Error จึงนำค่าที่ทำให้เกิด Error ไป drop ออกในขั้นตอนถัดไป"
      ],
      "metadata": {
        "id": "og2G-zJMcS5R"
      }
    },
    {
      "cell_type": "code",
      "source": [
        "ufo = ufo.drop(np.array(ufo[ufo['duration (seconds)'] == '2`'].index))\n",
        "ufo = ufo.drop(np.array(ufo[ufo['duration (seconds)'] == '8`'].index))\n",
        "ufo = ufo.drop(np.array(ufo[ufo['duration (seconds)'] == '0.5`'].index))\n",
        "\n",
        "ufo['duration (seconds)'] = ufo['duration (seconds)'].astype('float')\n",
        "\n",
        "(ufo['duration (seconds)']%1 == 0).all()"
      ],
      "metadata": {
        "colab": {
          "base_uri": "https://localhost:8080/"
        },
        "id": "_fIK2tUsV-lS",
        "outputId": "0bdbe7ce-0f82-4199-971f-c73e854493cb"
      },
      "execution_count": null,
      "outputs": [
        {
          "output_type": "execute_result",
          "data": {
            "text/plain": [
              "False"
            ]
          },
          "metadata": {},
          "execution_count": 209
        }
      ]
    },
    {
      "cell_type": "markdown",
      "source": [
        "drop ค่าที่ทำให้เกิด Error แล้วเปลี่ยน dataType เป็น float และตรวจสอบว่าทุกค่าเป็นจำนวนเต็มหรือไม่"
      ],
      "metadata": {
        "id": "hiroaLm-dG-_"
      }
    },
    {
      "cell_type": "code",
      "source": [
        "ufo['duration (seconds)'] = ufo['duration (seconds)'].round()\n",
        "ufo['duration (seconds)'] = ufo['duration (seconds)'].astype(np.uint32)\n",
        "\n",
        "#Print data types.\n",
        "ufo.info()"
      ],
      "metadata": {
        "colab": {
          "base_uri": "https://localhost:8080/"
        },
        "id": "_lW5jDCJWgzj",
        "outputId": "c4b70ba1-8a1a-468b-afa1-7a9eb2e663a5"
      },
      "execution_count": null,
      "outputs": [
        {
          "output_type": "stream",
          "name": "stdout",
          "text": [
            "<class 'pandas.core.frame.DataFrame'>\n",
            "Int64Index: 80329 entries, 0 to 80331\n",
            "Data columns (total 6 columns):\n",
            " #   Column              Non-Null Count  Dtype \n",
            "---  ------              --------------  ----- \n",
            " 0   datetime            80329 non-null  object\n",
            " 1   city                80329 non-null  object\n",
            " 2   state               80329 non-null  object\n",
            " 3   country             80329 non-null  object\n",
            " 4   shape               80329 non-null  object\n",
            " 5   duration (seconds)  80329 non-null  uint32\n",
            "dtypes: object(5), uint32(1)\n",
            "memory usage: 4.0+ MB\n"
          ]
        }
      ]
    },
    {
      "cell_type": "markdown",
      "source": [
        "round ค่าที่มีไม่ใช่จำนวนเต็มแล้วเปลี่ยน dataType จาก float เป็น int"
      ],
      "metadata": {
        "id": "_eCQzh2Ba3tC"
      }
    },
    {
      "cell_type": "code",
      "source": [
        "print('duplicated rows before dropping:', ufo.duplicated().sum())\n",
        "\n",
        "ufo = ufo.drop_duplicates()\n",
        "\n",
        "print('duplicated rows after dropping:', ufo.duplicated().sum())"
      ],
      "metadata": {
        "colab": {
          "base_uri": "https://localhost:8080/"
        },
        "id": "CNBCUvhJfeh9",
        "outputId": "dfb9a06b-1998-4563-c199-394e617e45de"
      },
      "execution_count": null,
      "outputs": [
        {
          "output_type": "stream",
          "name": "stdout",
          "text": [
            "duplicated rows before dropping: 422\n",
            "duplicated rows after dropping: 0\n"
          ]
        }
      ]
    },
    {
      "cell_type": "markdown",
      "source": [
        "#3. Data wrangling"
      ],
      "metadata": {
        "id": "Q8Up0R9r-9QR"
      }
    },
    {
      "cell_type": "markdown",
      "source": [
        "ทำการ wrangling data เพื่อความสะดวกหากมีความจำเป็นในการเลือกนำข้อมูลส่วนนั้นๆไปใช้ต่อในอนาคต"
      ],
      "metadata": {
        "id": "ep78x7-Riq7f"
      }
    },
    {
      "cell_type": "code",
      "source": [
        "ufo['datetime'] = pd.to_datetime(ufo['datetime'], errors='coerce')\n",
        "ufo.insert(6, 'year', ufo['datetime'].dt.year)\n",
        "ufo.insert(7, 'month', ufo['datetime'].dt.month)\n",
        "ufo.insert(8, 'time', ufo['datetime'].dt.hour)\n",
        "\n",
        "ufo.head(10)"
      ],
      "metadata": {
        "colab": {
          "base_uri": "https://localhost:8080/",
          "height": 363
        },
        "id": "pfR4_-GCo5_F",
        "outputId": "5cb9ff56-30b4-48ec-ffc8-3cf992028bba"
      },
      "execution_count": null,
      "outputs": [
        {
          "output_type": "execute_result",
          "data": {
            "text/plain": [
              "             datetime                  city state country     shape  \\\n",
              "0 1949-10-10 20:30:00            san marcos    tx      us  cylinder   \n",
              "1 1949-10-10 21:00:00          lackland afb    tx      us     light   \n",
              "2 1955-10-10 17:00:00  chester (uk/england)    us      gb    circle   \n",
              "3 1956-10-10 21:00:00                  edna    tx      us    circle   \n",
              "4 1960-10-10 20:00:00               kaneohe    hi      us     light   \n",
              "5 1961-10-10 19:00:00               bristol    tn      us    sphere   \n",
              "6 1965-10-10 21:00:00    penarth (uk/wales)    us      gb    circle   \n",
              "7 1965-10-10 23:45:00               norwalk    ct      us      disk   \n",
              "8 1966-10-10 20:00:00             pell city    al      us      disk   \n",
              "9 1966-10-10 21:00:00              live oak    fl      us      disk   \n",
              "\n",
              "   duration (seconds)    year  month  time  \n",
              "0                2700  1949.0   10.0  20.0  \n",
              "1                7200  1949.0   10.0  21.0  \n",
              "2                  20  1955.0   10.0  17.0  \n",
              "3                  20  1956.0   10.0  21.0  \n",
              "4                 900  1960.0   10.0  20.0  \n",
              "5                 300  1961.0   10.0  19.0  \n",
              "6                 180  1965.0   10.0  21.0  \n",
              "7                1200  1965.0   10.0  23.0  \n",
              "8                 180  1966.0   10.0  20.0  \n",
              "9                 120  1966.0   10.0  21.0  "
            ],
            "text/html": [
              "\n",
              "  <div id=\"df-0f5bcb3a-347f-4de4-a4f5-7ceb8b7cc811\">\n",
              "    <div class=\"colab-df-container\">\n",
              "      <div>\n",
              "<style scoped>\n",
              "    .dataframe tbody tr th:only-of-type {\n",
              "        vertical-align: middle;\n",
              "    }\n",
              "\n",
              "    .dataframe tbody tr th {\n",
              "        vertical-align: top;\n",
              "    }\n",
              "\n",
              "    .dataframe thead th {\n",
              "        text-align: right;\n",
              "    }\n",
              "</style>\n",
              "<table border=\"1\" class=\"dataframe\">\n",
              "  <thead>\n",
              "    <tr style=\"text-align: right;\">\n",
              "      <th></th>\n",
              "      <th>datetime</th>\n",
              "      <th>city</th>\n",
              "      <th>state</th>\n",
              "      <th>country</th>\n",
              "      <th>shape</th>\n",
              "      <th>duration (seconds)</th>\n",
              "      <th>year</th>\n",
              "      <th>month</th>\n",
              "      <th>time</th>\n",
              "    </tr>\n",
              "  </thead>\n",
              "  <tbody>\n",
              "    <tr>\n",
              "      <th>0</th>\n",
              "      <td>1949-10-10 20:30:00</td>\n",
              "      <td>san marcos</td>\n",
              "      <td>tx</td>\n",
              "      <td>us</td>\n",
              "      <td>cylinder</td>\n",
              "      <td>2700</td>\n",
              "      <td>1949.0</td>\n",
              "      <td>10.0</td>\n",
              "      <td>20.0</td>\n",
              "    </tr>\n",
              "    <tr>\n",
              "      <th>1</th>\n",
              "      <td>1949-10-10 21:00:00</td>\n",
              "      <td>lackland afb</td>\n",
              "      <td>tx</td>\n",
              "      <td>us</td>\n",
              "      <td>light</td>\n",
              "      <td>7200</td>\n",
              "      <td>1949.0</td>\n",
              "      <td>10.0</td>\n",
              "      <td>21.0</td>\n",
              "    </tr>\n",
              "    <tr>\n",
              "      <th>2</th>\n",
              "      <td>1955-10-10 17:00:00</td>\n",
              "      <td>chester (uk/england)</td>\n",
              "      <td>us</td>\n",
              "      <td>gb</td>\n",
              "      <td>circle</td>\n",
              "      <td>20</td>\n",
              "      <td>1955.0</td>\n",
              "      <td>10.0</td>\n",
              "      <td>17.0</td>\n",
              "    </tr>\n",
              "    <tr>\n",
              "      <th>3</th>\n",
              "      <td>1956-10-10 21:00:00</td>\n",
              "      <td>edna</td>\n",
              "      <td>tx</td>\n",
              "      <td>us</td>\n",
              "      <td>circle</td>\n",
              "      <td>20</td>\n",
              "      <td>1956.0</td>\n",
              "      <td>10.0</td>\n",
              "      <td>21.0</td>\n",
              "    </tr>\n",
              "    <tr>\n",
              "      <th>4</th>\n",
              "      <td>1960-10-10 20:00:00</td>\n",
              "      <td>kaneohe</td>\n",
              "      <td>hi</td>\n",
              "      <td>us</td>\n",
              "      <td>light</td>\n",
              "      <td>900</td>\n",
              "      <td>1960.0</td>\n",
              "      <td>10.0</td>\n",
              "      <td>20.0</td>\n",
              "    </tr>\n",
              "    <tr>\n",
              "      <th>5</th>\n",
              "      <td>1961-10-10 19:00:00</td>\n",
              "      <td>bristol</td>\n",
              "      <td>tn</td>\n",
              "      <td>us</td>\n",
              "      <td>sphere</td>\n",
              "      <td>300</td>\n",
              "      <td>1961.0</td>\n",
              "      <td>10.0</td>\n",
              "      <td>19.0</td>\n",
              "    </tr>\n",
              "    <tr>\n",
              "      <th>6</th>\n",
              "      <td>1965-10-10 21:00:00</td>\n",
              "      <td>penarth (uk/wales)</td>\n",
              "      <td>us</td>\n",
              "      <td>gb</td>\n",
              "      <td>circle</td>\n",
              "      <td>180</td>\n",
              "      <td>1965.0</td>\n",
              "      <td>10.0</td>\n",
              "      <td>21.0</td>\n",
              "    </tr>\n",
              "    <tr>\n",
              "      <th>7</th>\n",
              "      <td>1965-10-10 23:45:00</td>\n",
              "      <td>norwalk</td>\n",
              "      <td>ct</td>\n",
              "      <td>us</td>\n",
              "      <td>disk</td>\n",
              "      <td>1200</td>\n",
              "      <td>1965.0</td>\n",
              "      <td>10.0</td>\n",
              "      <td>23.0</td>\n",
              "    </tr>\n",
              "    <tr>\n",
              "      <th>8</th>\n",
              "      <td>1966-10-10 20:00:00</td>\n",
              "      <td>pell city</td>\n",
              "      <td>al</td>\n",
              "      <td>us</td>\n",
              "      <td>disk</td>\n",
              "      <td>180</td>\n",
              "      <td>1966.0</td>\n",
              "      <td>10.0</td>\n",
              "      <td>20.0</td>\n",
              "    </tr>\n",
              "    <tr>\n",
              "      <th>9</th>\n",
              "      <td>1966-10-10 21:00:00</td>\n",
              "      <td>live oak</td>\n",
              "      <td>fl</td>\n",
              "      <td>us</td>\n",
              "      <td>disk</td>\n",
              "      <td>120</td>\n",
              "      <td>1966.0</td>\n",
              "      <td>10.0</td>\n",
              "      <td>21.0</td>\n",
              "    </tr>\n",
              "  </tbody>\n",
              "</table>\n",
              "</div>\n",
              "      <button class=\"colab-df-convert\" onclick=\"convertToInteractive('df-0f5bcb3a-347f-4de4-a4f5-7ceb8b7cc811')\"\n",
              "              title=\"Convert this dataframe to an interactive table.\"\n",
              "              style=\"display:none;\">\n",
              "        \n",
              "  <svg xmlns=\"http://www.w3.org/2000/svg\" height=\"24px\"viewBox=\"0 0 24 24\"\n",
              "       width=\"24px\">\n",
              "    <path d=\"M0 0h24v24H0V0z\" fill=\"none\"/>\n",
              "    <path d=\"M18.56 5.44l.94 2.06.94-2.06 2.06-.94-2.06-.94-.94-2.06-.94 2.06-2.06.94zm-11 1L8.5 8.5l.94-2.06 2.06-.94-2.06-.94L8.5 2.5l-.94 2.06-2.06.94zm10 10l.94 2.06.94-2.06 2.06-.94-2.06-.94-.94-2.06-.94 2.06-2.06.94z\"/><path d=\"M17.41 7.96l-1.37-1.37c-.4-.4-.92-.59-1.43-.59-.52 0-1.04.2-1.43.59L10.3 9.45l-7.72 7.72c-.78.78-.78 2.05 0 2.83L4 21.41c.39.39.9.59 1.41.59.51 0 1.02-.2 1.41-.59l7.78-7.78 2.81-2.81c.8-.78.8-2.07 0-2.86zM5.41 20L4 18.59l7.72-7.72 1.47 1.35L5.41 20z\"/>\n",
              "  </svg>\n",
              "      </button>\n",
              "      \n",
              "  <style>\n",
              "    .colab-df-container {\n",
              "      display:flex;\n",
              "      flex-wrap:wrap;\n",
              "      gap: 12px;\n",
              "    }\n",
              "\n",
              "    .colab-df-convert {\n",
              "      background-color: #E8F0FE;\n",
              "      border: none;\n",
              "      border-radius: 50%;\n",
              "      cursor: pointer;\n",
              "      display: none;\n",
              "      fill: #1967D2;\n",
              "      height: 32px;\n",
              "      padding: 0 0 0 0;\n",
              "      width: 32px;\n",
              "    }\n",
              "\n",
              "    .colab-df-convert:hover {\n",
              "      background-color: #E2EBFA;\n",
              "      box-shadow: 0px 1px 2px rgba(60, 64, 67, 0.3), 0px 1px 3px 1px rgba(60, 64, 67, 0.15);\n",
              "      fill: #174EA6;\n",
              "    }\n",
              "\n",
              "    [theme=dark] .colab-df-convert {\n",
              "      background-color: #3B4455;\n",
              "      fill: #D2E3FC;\n",
              "    }\n",
              "\n",
              "    [theme=dark] .colab-df-convert:hover {\n",
              "      background-color: #434B5C;\n",
              "      box-shadow: 0px 1px 3px 1px rgba(0, 0, 0, 0.15);\n",
              "      filter: drop-shadow(0px 1px 2px rgba(0, 0, 0, 0.3));\n",
              "      fill: #FFFFFF;\n",
              "    }\n",
              "  </style>\n",
              "\n",
              "      <script>\n",
              "        const buttonEl =\n",
              "          document.querySelector('#df-0f5bcb3a-347f-4de4-a4f5-7ceb8b7cc811 button.colab-df-convert');\n",
              "        buttonEl.style.display =\n",
              "          google.colab.kernel.accessAllowed ? 'block' : 'none';\n",
              "\n",
              "        async function convertToInteractive(key) {\n",
              "          const element = document.querySelector('#df-0f5bcb3a-347f-4de4-a4f5-7ceb8b7cc811');\n",
              "          const dataTable =\n",
              "            await google.colab.kernel.invokeFunction('convertToInteractive',\n",
              "                                                     [key], {});\n",
              "          if (!dataTable) return;\n",
              "\n",
              "          const docLinkHtml = 'Like what you see? Visit the ' +\n",
              "            '<a target=\"_blank\" href=https://colab.research.google.com/notebooks/data_table.ipynb>data table notebook</a>'\n",
              "            + ' to learn more about interactive tables.';\n",
              "          element.innerHTML = '';\n",
              "          dataTable['output_type'] = 'display_data';\n",
              "          await google.colab.output.renderOutput(dataTable, element);\n",
              "          const docLink = document.createElement('div');\n",
              "          docLink.innerHTML = docLinkHtml;\n",
              "          element.appendChild(docLink);\n",
              "        }\n",
              "      </script>\n",
              "    </div>\n",
              "  </div>\n",
              "  "
            ]
          },
          "metadata": {},
          "execution_count": 216
        }
      ]
    },
    {
      "cell_type": "markdown",
      "source": [
        "#4. ใช้เครื่องมือสำหรับ data visualization และการอภิปรายรูปกราฟที่เลือก"
      ],
      "metadata": {
        "id": "CmKpmGqU_EL6"
      }
    },
    {
      "cell_type": "markdown",
      "source": [
        "การเลือกใช้โมเดลที่สอดคล้องกับชุดข้อมูลและวัตถุประสงค์ของโครงงาน\n",
        "1. สถานที่มีประวัติการพบเห็น UFO - Bar Charts เลือกใช้ Bar Charts เนื่องจากสามารถแสดงลักษณะจำนวนครั้งที่พบเห็น UFO ของแต่ละสถานที่ได้ง่าย\n",
        "2. เดือนที่มีประวัติการพบเห็น UFO - Bar Charts  เลือกใช้ Bar Charts เนื่องจากสามารถแสดงจำนวนครั้งที่พบเห็น UFO ของแต่ละเดือนได้ง่าย\n",
        "3. ช่วงเวลาที่มีประวัติการพบเห็น UFO - Bar Charts  เลือกใช้ Bar Charts เนื่องจากสามารถแสดงจำนวนครั้งที่พบเห็น UFO ในแต่ละช่วงเวลาของวันได้ละเอียดที่สุด\n",
        "\n"
      ],
      "metadata": {
        "id": "bs21u5PCj6vU"
      }
    },
    {
      "cell_type": "code",
      "source": [
        "ufo_country = ufo['country'].value_counts()\n",
        "\n",
        "fig, ax = plt.subplots(figsize=(8,8))\n",
        "plt.bar(ufo_country.index, ufo_country.values)\n",
        "\n",
        "for i in ufo_country.index:\n",
        "  plt.text(i, ufo_country[i]+500, ufo_country[i], ha='center')\n",
        "\n",
        "plt.title('Number of UFOs found in each country')\n",
        "plt.xlabel('Countries')\n",
        "plt.ylabel('Number of UFOs')\n",
        "\n",
        "_ = plt.show()"
      ],
      "metadata": {
        "id": "zi75xLh__MVR",
        "colab": {
          "base_uri": "https://localhost:8080/",
          "height": 513
        },
        "outputId": "5f28ac63-d143-40c3-e559-26aabdec3440"
      },
      "execution_count": null,
      "outputs": [
        {
          "output_type": "display_data",
          "data": {
            "text/plain": [
              "<Figure size 576x576 with 1 Axes>"
            ],
            "image/png": "[encoded data removed]"
          },
          "metadata": {
            "needs_background": "light"
          }
        }
      ]
    },
    {
      "cell_type": "code",
      "source": [
        "ufo_month = ufo['month'].value_counts()\n",
        "\n",
        "fig, ax = plt.subplots(figsize=(12,6))\n",
        "plt.bar(ufo_month.index, ufo_month.values)\n",
        "\n",
        "for i in ufo_month.index:\n",
        "  plt.text(i, ufo_month[i]+100, ufo_month[i], ha='center')\n",
        "\n",
        "plt.title('Number of UFOs found in each month')\n",
        "plt.xlabel('Months')\n",
        "plt.ylabel('Number of UFOs')\n",
        "\n",
        "_ = plt.xticks(ufo_month.index)"
      ],
      "metadata": {
        "colab": {
          "base_uri": "https://localhost:8080/",
          "height": 404
        },
        "id": "uQIC5tz6zk1Z",
        "outputId": "0a170552-1feb-4808-96f2-438e731f20a9"
      },
      "execution_count": null,
      "outputs": [
        {
          "output_type": "display_data",
          "data": {
            "text/plain": [
              "<Figure size 864x432 with 1 Axes>"
            ],
            "image/png": "[encoded data removed]"
          },
          "metadata": {
            "needs_background": "light"
          }
        }
      ]
    },
    {
      "cell_type": "code",
      "source": [
        "ufo_time = ufo['time'].value_counts()\n",
        "\n",
        "fig, ax = plt.subplots(figsize=(15,6))\n",
        "plt.bar(ufo_time.index, ufo_time.values)\n",
        "\n",
        "for i in ufo_time.index:\n",
        "  plt.text(i, ufo_time[i]+150, ufo_time[i], ha='center')\n",
        "\n",
        "plt.title('Number of UFOs found in each time of a day')\n",
        "plt.xlabel('Time')\n",
        "plt.ylabel('Number of UFOs')\n",
        "\n",
        "_ = plt.xticks(ufo_time.index)"
      ],
      "metadata": {
        "id": "DoZ5EUS51M-p",
        "outputId": "9c0f7a31-85a8-41b3-9a6e-8d84fd773873",
        "colab": {
          "base_uri": "https://localhost:8080/",
          "height": 404
        }
      },
      "execution_count": null,
      "outputs": [
        {
          "output_type": "display_data",
          "data": {
            "text/plain": [
              "<Figure size 1080x432 with 1 Axes>"
            ],
            "image/png": "[encoded data removed]"
          },
          "metadata": {
            "needs_background": "light"
          }
        }
      ]
    },
    {
      "cell_type": "markdown",
      "source": [
        "#การอภิปรายผลของการใช้งานโมเดล"
      ],
      "metadata": {
        "id": "Z0w-Xdzr_Xzo"
      }
    },
    {
      "cell_type": "markdown",
      "source": [
        "### ``สถานที่มีประวัติการพบเห็น UFO``\n",
        "-  หลังจากใช้ Bar Charts ในการการ Visualization ข้อมูลชี้ให้เห็นว่ามีสถิติบันทึกการพบเห็น UFO มากที่สุดที่ประเทศสหรัฐอเมริกา ซึ่งมีจำนวนการบันทึกถึง 74,381 ครั้งซึ่งห่างจากอันดับอื่นๆอย่างมาก รองลงมาเป็นแคลิฟอเนียที่มีสถิติการพบเห็นที่  2,985 ครั้งและอังกฤษที่ 1,899 ครั้ง สุดท้ายคือออสเตเลีย 537 และ เยอรมนีที่ 105 ครั้ง\n"
      ],
      "metadata": {
        "id": "dQGn-gbrt2Nv"
      }
    },
    {
      "cell_type": "markdown",
      "source": [
        "### ``เดือนที่มีประวัติการพบเห็น UFO ``\n",
        "- หลังจากใช้ Bar Charts ในการการ Visualization ข้อมูลชี้ให้เห็นว่าในแต่ละเดือนของปี มีสถิติการพบเห็น UFO ที่ไม่แตกต่างกันมากนัก โดยเดือนที่มีบันทึกการพบ UFO มากที่สุดคือเดือนที่ 7 ของปี (กรกฎาคม) อยู่ที่ 9,380 ครั้ง ส่วนเดือนที่มีการพบเห็น UFO น้อยที่สุดจาก 12 เดือนคือเดือนที่ 2 (กุมภาพันธ์) ซึ่งมีบันทึกการพบ UFO ที่ 4,602 ครั้ง"
      ],
      "metadata": {
        "id": "TV0dTWpk1eAK"
      }
    },
    {
      "cell_type": "markdown",
      "source": [
        "### ``ช่วงเวลาที่มีประวัติการพบเห็น UFO ``\n",
        "- หลังจากใช้ Bar Charts ในการการ Visualization ข้อมูลชี้ให้เห็นว่าในแต่ละช่วงเวลาของวัน มีสถิติการพบเห็น UFO ที่แตกต่างกันชัดเจนในแต่ละช่วงเวลา ในเวลากลางคืนอย่างในช่วงตั้งแต่ 17.00 น. - 23.00 น. มีสถิติบันทึกการพบเห็น UFO มากที่สุด โดยชั่วโมงที่พบ UFO มากที่สุดคือช่วง 21.00 น. ที่  11,355 ครั้ง ส่วนช่วงเวลาที่มีการพบเห็น UFO น้อยที่สุดคือช่วงเช้าถึงช่วงสายของวัน 6.00 น. - 11.00 น.โดยช่วงเวลาที่น้อยที่สุดคือเวลา 8.00 น. ของวันที่มีสถิติการพบน้อยที่สุดคือ 801 ครั้ง"
      ],
      "metadata": {
        "id": "mrwt32Hw1eQz"
      }
    }
  ]
}